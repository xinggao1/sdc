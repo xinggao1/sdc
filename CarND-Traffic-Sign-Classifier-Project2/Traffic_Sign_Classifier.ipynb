{
 "cells": [
  {
   "cell_type": "markdown",
   "metadata": {},
   "source": [
    "# Self-Driving Car Engineer Nanodegree\n",
    "\n",
    "## Deep Learning\n",
    "\n",
    "## Project: Build a Traffic Sign Recognition Classifier\n",
    "\n",
    "In this notebook, a template is provided for you to implement your functionality in stages, which is required to successfully complete this project. If additional code is required that cannot be included in the notebook, be sure that the Python code is successfully imported and included in your submission if necessary. \n",
    "\n",
    "> **Note**: Once you have completed all of the code implementations, you need to finalize your work by exporting the iPython Notebook as an HTML document. Before exporting the notebook to html, all of the code cells need to have been run so that reviewers can see the final implementation and output. You can then export the notebook by using the menu above and navigating to  \\n\",\n",
    "    \"**File -> Download as -> HTML (.html)**. Include the finished document along with this notebook as your submission. \n",
    "\n",
    "In addition to implementing code, there is a writeup to complete. The writeup should be completed in a separate file, which can be either a markdown file or a pdf document. There is a [write up template](https://github.com/udacity/CarND-Traffic-Sign-Classifier-Project/blob/master/writeup_template.md) that can be used to guide the writing process. Completing the code template and writeup template will cover all of the [rubric points](https://review.udacity.com/#!/rubrics/481/view) for this project.\n",
    "\n",
    "The [rubric](https://review.udacity.com/#!/rubrics/481/view) contains \"Stand Out Suggestions\" for enhancing the project beyond the minimum requirements. The stand out suggestions are optional. If you decide to pursue the \"stand out suggestions\", you can include the code in this Ipython notebook and also discuss the results in the writeup file.\n",
    "\n",
    "\n",
    ">**Note:** Code and Markdown cells can be executed using the **Shift + Enter** keyboard shortcut. In addition, Markdown cells can be edited by typically double-clicking the cell to enter edit mode."
   ]
  },
  {
   "cell_type": "markdown",
   "metadata": {},
   "source": [
    "---\n",
    "## Step 0: Load The Data"
   ]
  },
  {
   "cell_type": "code",
   "execution_count": 1,
   "metadata": {
    "collapsed": true
   },
   "outputs": [],
   "source": [
    "# Load pickled data\n",
    "import pickle\n",
    "import numpy as np\n",
    "\n",
    "training_file = \"data/train.p\"\n",
    "validation_file= \"data/valid.p\"\n",
    "testing_file = \"data/test.p\"\n",
    "\n",
    "with open(training_file, mode='rb') as f:\n",
    "    train = pickle.load(f)\n",
    "with open(validation_file, mode='rb') as f:\n",
    "    valid = pickle.load(f)\n",
    "with open(testing_file, mode='rb') as f:\n",
    "    test = pickle.load(f)\n",
    "    \n",
    "X_train, y_train = train['features'], train['labels']\n",
    "X_valid, y_valid = valid['features'], valid['labels']\n",
    "X_test, y_test = test['features'], test['labels']"
   ]
  },
  {
   "cell_type": "markdown",
   "metadata": {},
   "source": [
    "---\n",
    "\n",
    "## Step 1: Dataset Summary & Exploration\n",
    "\n",
    "The pickled data is a dictionary with 4 key/value pairs:\n",
    "\n",
    "- `'features'` is a 4D array containing raw pixel data of the traffic sign images, (num examples, width, height, channels).\n",
    "- `'labels'` is a 1D array containing the label/class id of the traffic sign. The file `signnames.csv` contains id -> name mappings for each id.\n",
    "- `'sizes'` is a list containing tuples, (width, height) representing the original width and height the image.\n",
    "- `'coords'` is a list containing tuples, (x1, y1, x2, y2) representing coordinates of a bounding box around the sign in the image. **THESE COORDINATES ASSUME THE ORIGINAL IMAGE. THE PICKLED DATA CONTAINS RESIZED VERSIONS (32 by 32) OF THESE IMAGES**\n",
    "\n",
    "Complete the basic data summary below. Use python, numpy and/or pandas methods to calculate the data summary rather than hard coding the results. For example, the [pandas shape method](http://pandas.pydata.org/pandas-docs/stable/generated/pandas.DataFrame.shape.html) might be useful for calculating some of the summary results. "
   ]
  },
  {
   "cell_type": "markdown",
   "metadata": {},
   "source": [
    "### Provide a Basic Summary of the Data Set Using Python, Numpy and/or Pandas"
   ]
  },
  {
   "cell_type": "code",
   "execution_count": 2,
   "metadata": {},
   "outputs": [
    {
     "name": "stdout",
     "output_type": "stream",
     "text": [
      "[ 0  1  2  3  4  5  6  7  8  9 10 11 12 13 14 15 16 17 18 19 20 21 22 23 24\n",
      " 25 26 27 28 29 30 31 32 33 34 35 36 37 38 39 40 41 42] [ 180 1980 2010 1260 1770 1650  360 1290 1260 1320 1800 1170 1890 1920  690\n",
      "  540  360  990 1080  180  300  270  330  450  240 1350  540  210  480  240\n",
      "  390  690  210  599  360 1080  330  180 1860  270  300  210  210]\n",
      "Number of training examples = 34799\n",
      "Number of validation examples = 4410\n",
      "Number of testing examples = 12630\n",
      "Image data shape = (32, 32, 3)\n",
      "Number of classes = 43\n"
     ]
    },
    {
     "data": {
      "image/png": "[encoded data removed]",
      "text/plain": [
       "<matplotlib.figure.Figure at 0x7f20caaad9b0>"
      ]
     },
     "metadata": {},
     "output_type": "display_data"
    }
   ],
   "source": [
    "import numpy as np\n",
    "import matplotlib.pyplot as plt\n",
    "%matplotlib inline\n",
    "\n",
    "n_train = y_train.shape[0]\n",
    "\n",
    "n_validation = y_valid.shape[0]\n",
    "\n",
    "n_test = y_test.shape[0]\n",
    "\n",
    "image_shape = X_train.shape[1:]\n",
    "\n",
    "classes, counts = np.unique(y_train, return_counts = True)\n",
    "n_classes = classes.shape[0]\n",
    "print (classes, counts)\n",
    "print(\"Number of training examples =\", n_train)\n",
    "print(\"Number of validation examples =\", n_validation)\n",
    "print(\"Number of testing examples =\", n_test)\n",
    "print(\"Image data shape =\", image_shape)\n",
    "print(\"Number of classes =\", n_classes)\n",
    "\n",
    "y = counts\n",
    "x = classes\n",
    "width = 1/1.5\n",
    "plt.xlabel('label')\n",
    "plt.ylabel('data size')\n",
    "plt.title('traning data histogram')\n",
    "plt.bar(x, y, width, color=\"blue\")\n",
    "plt.savefig('output_img/training hist.png')"
   ]
  },
  {
   "cell_type": "markdown",
   "metadata": {},
   "source": [
    "### Include an exploratory visualization of the dataset"
   ]
  },
  {
   "cell_type": "markdown",
   "metadata": {},
   "source": [
    "Visualize the German Traffic Signs Dataset using the pickled file(s). This is open ended, suggestions include: plotting traffic sign images, plotting the count of each sign, etc. \n",
    "\n",
    "The [Matplotlib](http://matplotlib.org/) [examples](http://matplotlib.org/examples/index.html) and [gallery](http://matplotlib.org/gallery.html) pages are a great resource for doing visualizations in Python.\n",
    "\n",
    "**NOTE:** It's recommended you start with something simple first. If you wish to do more, come back to it after you've completed the rest of the sections. It can be interesting to look at the distribution of classes in the training, validation and test set. Is the distribution the same? Are there more examples of some classes than others?"
   ]
  },
  {
   "cell_type": "code",
   "execution_count": 3,
   "metadata": {
    "scrolled": false
   },
   "outputs": [
    {
     "data": {
      "image/png": "[encoded data removed]",
      "text/plain": [
       "<matplotlib.figure.Figure at 0x7f20f42ebf98>"
      ]
     },
     "metadata": {},
     "output_type": "display_data"
    }
   ],
   "source": [
    "from sklearn.utils import shuffle\n",
    "import tensorflow as tf\n",
    "# X_valid, y_valid = shuffle(X_valid, y_valid)\n",
    "for i in range(1):\n",
    "    for j in range(n_validation):\n",
    "        if y_valid[j] == i:\n",
    "            plt.figure(figsize=(2,2), dpi=64)\n",
    "            plt.imshow(X_valid[j])\n",
    "            plt.savefig('output_img/orginal.png')\n",
    "            break;\n",
    "\n",
    "# count = 0;\n",
    "# for j in range(n_test):\n",
    "#     if y_test[j] == 25:\n",
    "#         plt.figure(figsize=(2,2), dpi=64)\n",
    "#         plt.imshow(X_test[j])\n",
    "#         count +=1\n",
    "#         if count ==20:\n",
    "#             break;"
   ]
  },
  {
   "cell_type": "markdown",
   "metadata": {},
   "source": [
    "----\n",
    "\n",
    "## Step 2: Design and Test a Model Architecture\n",
    "\n",
    "Design and implement a deep learning model that learns to recognize traffic signs. Train and test your model on the [German Traffic Sign Dataset](http://benchmark.ini.rub.de/?section=gtsrb&subsection=dataset).\n",
    "\n",
    "The LeNet-5 implementation shown in the [classroom](https://classroom.udacity.com/nanodegrees/nd013/parts/fbf77062-5703-404e-b60c-95b78b2f3f9e/modules/6df7ae49-c61c-4bb2-a23e-6527e69209ec/lessons/601ae704-1035-4287-8b11-e2c2716217ad/concepts/d4aca031-508f-4e0b-b493-e7b706120f81) at the end of the CNN lesson is a solid starting point. You'll have to change the number of classes and possibly the preprocessing, but aside from that it's plug and play! \n",
    "\n",
    "With the LeNet-5 solution from the lecture, you should expect a validation set accuracy of about 0.89. To meet specifications, the validation set accuracy will need to be at least 0.93. It is possible to get an even higher accuracy, but 0.93 is the minimum for a successful project submission. \n",
    "\n",
    "There are various aspects to consider when thinking about this problem:\n",
    "\n",
    "- Neural network architecture (is the network over or underfitting?)\n",
    "- Play around preprocessing techniques (normalization, rgb to grayscale, etc)\n",
    "- Number of examples per label (some have more than others).\n",
    "- Generate fake data.\n",
    "\n",
    "Here is an example of a [published baseline model on this problem](http://yann.lecun.com/exdb/publis/pdf/sermanet-ijcnn-11.pdf). It's not required to be familiar with the approach used in the paper but, it's good practice to try to read papers like these."
   ]
  },
  {
   "cell_type": "markdown",
   "metadata": {},
   "source": [
    "### Pre-process the Data Set (normalization, grayscale, etc.)"
   ]
  },
  {
   "cell_type": "markdown",
   "metadata": {},
   "source": [
    "Minimally, the image data should be normalized so that the data has mean zero and equal variance. For image data, `(pixel - 128)/ 128` is a quick way to approximately normalize the data and can be used in this project. \n",
    "\n",
    "Other pre-processing steps are optional. You can try different techniques to see if it improves performance. \n",
    "\n",
    "Use the code cell (or multiple code cells, if necessary) to implement the first step of your project."
   ]
  },
  {
   "cell_type": "code",
   "execution_count": 4,
   "metadata": {},
   "outputs": [
    {
     "name": "stdout",
     "output_type": "stream",
     "text": [
      "(34799, 32, 32, 1) (34799,)\n",
      "(32, 32, 1)\n"
     ]
    },
    {
     "data": {
      "image/png": "[encoded data removed]",
      "text/plain": [
       "<matplotlib.figure.Figure at 0x7f20b3ce1240>"
      ]
     },
     "metadata": {},
     "output_type": "display_data"
    }
   ],
   "source": [
    "\n",
    "\n",
    "X_train = np.mean(X_train, axis = 3)[:,:,:,None]\n",
    "X_valid = np.mean(X_valid, axis = 3)[:,:,:,None]\n",
    "X_test = np.mean(X_test, axis = 3)[:,:,:,None]\n",
    "print (X_train.shape, y_train.shape)\n",
    "\n",
    "for i in range(1):\n",
    "    for j in range(n_validation):\n",
    "        if y_valid[j] == i:\n",
    "            plt.figure(figsize=(4,4), dpi=64)\n",
    "            print (X_valid[j].shape)\n",
    "            plt.imshow(X_valid[j].squeeze(), 'gray')\n",
    "            plt.savefig('output_img/gray.png')\n",
    "            break;\n",
    "\n",
    "X_train = ((X_train - 128) / 128.0).astype(np.float32)\n",
    "X_valid = ((X_valid - 128) / 128.0).astype(np.float32)\n",
    "X_test = ((X_test - 128) / 128.0).astype(np.float32)\n",
    "\n",
    "X_train, y_train = shuffle(X_train, y_train)\n",
    "\n",
    "# X_train = X_train[:1000]\n",
    "# y_train = y_train[:1000]\n",
    "X_test1 = X_test[:int(n_test/2)].astype(np.float32)\n",
    "X_test2 = X_test[int(n_test/2):].astype(np.float32)\n",
    "\n",
    "y_test1 = y_test[:int(n_test/2)]\n",
    "y_test2 = y_test[int(n_test/2):]\n"
   ]
  },
  {
   "cell_type": "markdown",
   "metadata": {},
   "source": [
    "### Model Architecture"
   ]
  },
  {
   "cell_type": "code",
   "execution_count": 5,
   "metadata": {
    "collapsed": true
   },
   "outputs": [],
   "source": [
    "from tensorflow.contrib.layers import flatten\n",
    "\n",
    "batch_size = 256\n",
    "patch_size = 3\n",
    "depth = 32\n",
    "halfDepth = (int)(depth / 2)\n",
    "num_hidden = 512\n",
    "num_hidden2 = 128\n",
    "drop_keep_prob = 0.5\n",
    "image_size = image_shape[0]\n",
    "num_channels = 1\n",
    "\n",
    "tf.reset_default_graph()\n",
    "\n",
    "# Input data.\n",
    "tf_train_dataset = tf.placeholder(tf.float32, \n",
    "                                  [None, image_size, image_size, num_channels])\n",
    "\n",
    "tf_train_labels_1hot = tf.placeholder(tf.uint8,  [None])\n",
    "tf_valid_dataset = tf.constant(X_valid)\n",
    "tf_test_dataset1 = tf.constant(X_test1)\n",
    "tf_test_dataset2 = tf.constant(X_test2)\n",
    "\n",
    "#3,3,n,16\n",
    "layer11_weights = tf.Variable(tf.truncated_normal(\n",
    "    [patch_size, patch_size, num_channels, halfDepth], stddev=0.1))\n",
    "layer11_biases = tf.Variable(tf.zeros([halfDepth]))\n",
    "layer12_weights = tf.Variable(tf.truncated_normal(\n",
    "    [patch_size, patch_size, halfDepth, halfDepth], stddev=0.1))\n",
    "layer12_biases = tf.Variable(tf.zeros([halfDepth]))    \n",
    "\n",
    "#3,3,n,32\n",
    "layer21_weights = tf.Variable(tf.truncated_normal(\n",
    "    [patch_size, patch_size, halfDepth, depth], stddev=0.1))\n",
    "layer21_biases = tf.Variable(tf.zeros([depth]))\n",
    "layer22_weights = tf.Variable(tf.truncated_normal(\n",
    "    [patch_size, patch_size, depth, depth], stddev=0.1))\n",
    "layer22_biases = tf.Variable(tf.zeros([depth]))\n",
    "\n",
    "#2048*512\n",
    "layer3_weights = tf.Variable(tf.truncated_normal(\n",
    "    [image_size // 4 * image_size // 4 * depth, num_hidden], stddev=0.1))\n",
    "layer3_biases = tf.Variable(tf.zeros([num_hidden]))\n",
    "\n",
    "#512*128 \n",
    "layer4_weights = tf.Variable(tf.truncated_normal(\n",
    "    [num_hidden, num_hidden2], stddev=0.1))  \n",
    "layer4_biases = tf.Variable(tf.zeros([num_hidden2]))\n",
    "\n",
    "#128*43 \n",
    "layer5_weights = tf.Variable(tf.truncated_normal(\n",
    "    [num_hidden2, n_classes], stddev=0.1))  \n",
    "layer5_biases = tf.Variable(tf.zeros([n_classes]))\n",
    "\n",
    "#     one2one_w1 = tf.Variable(tf.truncated_normal(\n",
    "#         [1, 1, depth, depth], stddev=0.1))\n",
    "#     one2one_b1 = tf.Variable(tf.constant(1.0, shape=[depth]))\n",
    "#     one2one_w2 = tf.Variable(tf.truncated_normal(\n",
    "#         [1, 1, depth, depth], stddev=0.1))\n",
    "#     one2one_b2 = tf.Variable(tf.constant(1.0, shape=[depth]))\n",
    "\n",
    "# Model.\n",
    "def model(data,drop = False):\n",
    "    conv = tf.nn.conv2d(data, layer11_weights, [1, 1, 1, 1], padding='SAME')+ layer11_biases\n",
    "    conv = tf.nn.relu(conv )\n",
    "    conv = tf.nn.conv2d(conv, layer12_weights, [1, 1, 1, 1], padding='SAME')+ layer12_biases\n",
    "    conv = tf.nn.relu(conv )\n",
    "    hidden = tf.nn.max_pool(conv, [1, 2, 2, 1], [1, 2, 2, 1], padding='SAME')\n",
    "    if(drop):\n",
    "        hidden = tf.nn.dropout(hidden, drop_keep_prob)\n",
    "\n",
    "    conv = tf.nn.conv2d(hidden, layer21_weights, [1, 1, 1, 1], padding='SAME')+ layer21_biases\n",
    "    conv = tf.nn.relu(conv )\n",
    "    conv = tf.nn.conv2d(conv, layer22_weights, [1, 1, 1, 1], padding='SAME')+ layer22_biases\n",
    "    conv = tf.nn.relu(conv )\n",
    "    hidden = tf.nn.max_pool(conv, [1, 2, 2, 1], [1, 2, 2, 1], padding='SAME')\n",
    "    if(drop):\n",
    "        hidden = tf.nn.dropout(hidden, drop_keep_prob)\n",
    "\n",
    "    #1 to 1\n",
    "#         hidden = tf.nn.conv2d(hidden, one2one_w1, [1, 1, 1, 1], padding='SAME')+ one2one_b1\n",
    "#         hidden = tf.nn.relu(hidden )\n",
    "    #\n",
    "\n",
    "    reshape = flatten(hidden)\n",
    "#     shape = hidden.get_shape().as_list()\n",
    "#     reshape = tf.reshape(hidden, [shape[0], shape[1] * shape[2] * shape[3]])\n",
    "    hidden = tf.nn.relu(tf.matmul(reshape, layer3_weights) + layer3_biases)\n",
    "    if(drop):\n",
    "        hidden = tf.nn.dropout(hidden, drop_keep_prob)\n",
    "\n",
    "    hidden = tf.nn.relu(tf.matmul(hidden, layer4_weights) + layer4_biases)\n",
    "    if(drop):\n",
    "        hidden = tf.nn.dropout(hidden, drop_keep_prob)\n",
    "\n",
    "    return tf.matmul(hidden, layer5_weights) + layer5_biases    \n",
    "\n",
    "\n",
    "tf_train_labels = tf.one_hot(tf_train_labels_1hot, n_classes)    \n",
    "# Training computation.\n",
    "logits = model(tf_train_dataset, drop = True)\n",
    "loss = tf.reduce_mean(\n",
    "    tf.nn.softmax_cross_entropy_with_logits(logits, tf_train_labels))\n",
    "global_step = tf.Variable(0)  # count the number of steps taken.\n",
    "learning_rate = tf.placeholder(tf.float32)\n",
    "#tf.train.exponential_decay(0.02, global_step, 1000, 0.6)\n",
    "optimizer = tf.train.AdamOptimizer(learning_rate).minimize(loss, global_step=global_step)\n",
    "\n",
    "# Predictions for the training, validation, and test data.\n",
    "train_prediction = tf.nn.softmax(model(tf_train_dataset))\n",
    "valid_prediction = tf.nn.softmax(model(tf_valid_dataset))\n",
    "test_prediction1 = tf.nn.softmax(model(tf_test_dataset1))\n",
    "test_prediction2 = tf.nn.softmax(model(tf_test_dataset2))\n",
    "\n",
    "def accuracy(predictions, labels):    \n",
    "    return 100.0 * np.sum(np.argmax(predictions, 1) == labels)/ predictions.shape[0]\n",
    "\n",
    "\n",
    "save_file = './train_model.ckpt'\n",
    "saver = tf.train.Saver()"
   ]
  },
  {
   "cell_type": "markdown",
   "metadata": {},
   "source": [
    "### Train, Validate and Test the Model"
   ]
  },
  {
   "cell_type": "markdown",
   "metadata": {},
   "source": [
    "A validation set can be used to assess how well the model is performing. A low accuracy on the training and validation\n",
    "sets imply underfitting. A high accuracy on the training set but low accuracy on the validation set implies overfitting."
   ]
  },
  {
   "cell_type": "code",
   "execution_count": 6,
   "metadata": {
    "scrolled": false
   },
   "outputs": [
    {
     "name": "stdout",
     "output_type": "stream",
     "text": [
      "Minibatch loss at step 0: 4.620737\n",
      "Minibatch accuracy: 2.7%\n",
      "Validation accuracy: 3.2%\n",
      "Minibatch loss at step 100: 3.318079\n",
      "Minibatch accuracy: 19.1%\n",
      "Validation accuracy: 11.5%\n",
      "\tlearn rate 0.001412\n",
      "Minibatch loss at step 200: 1.855666\n",
      "Minibatch accuracy: 57.8%\n",
      "Validation accuracy: 53.6%\n",
      "\tlearn rate 0.001021\n",
      "Minibatch loss at step 300: 1.516911\n",
      "Minibatch accuracy: 67.6%\n",
      "Validation accuracy: 68.7%\n",
      "\tlearn rate 0.000840\n",
      "Minibatch loss at step 400: 1.011191\n",
      "Minibatch accuracy: 84.0%\n",
      "Validation accuracy: 75.7%\n",
      "\tlearn rate 0.000740\n",
      "Minibatch loss at step 500: 0.858840\n",
      "Minibatch accuracy: 85.9%\n",
      "Validation accuracy: 82.1%\n",
      "\tlearn rate 0.000635\n",
      "Minibatch loss at step 600: 0.765634\n",
      "Minibatch accuracy: 91.8%\n",
      "Validation accuracy: 85.3%\n",
      "\tlearn rate 0.000576\n",
      "Minibatch loss at step 700: 0.672049\n",
      "Minibatch accuracy: 93.4%\n",
      "Validation accuracy: 87.8%\n",
      "\tlearn rate 0.000525\n",
      "Minibatch loss at step 800: 0.539963\n",
      "Minibatch accuracy: 93.8%\n",
      "Validation accuracy: 89.3%\n",
      "\tlearn rate 0.000491\n",
      "Minibatch loss at step 900: 0.576897\n",
      "Minibatch accuracy: 96.9%\n",
      "Validation accuracy: 90.9%\n",
      "\tlearn rate 0.000452\n",
      "Minibatch loss at step 1000: 0.472748\n",
      "Minibatch accuracy: 95.7%\n",
      "Validation accuracy: 91.7%\n",
      "Minibatch loss at step 1100: 0.620144\n",
      "Minibatch accuracy: 93.0%\n",
      "Validation accuracy: 92.3%\n",
      "\tlearn rate 0.000417\n",
      "Minibatch loss at step 1200: 0.528120\n",
      "Minibatch accuracy: 94.5%\n",
      "Validation accuracy: 92.3%\n",
      "Minibatch loss at step 1300: 0.419698\n",
      "Minibatch accuracy: 96.5%\n",
      "Validation accuracy: 92.5%\n",
      "Minibatch loss at step 1400: 0.368306\n",
      "Minibatch accuracy: 98.4%\n",
      "Validation accuracy: 93.8%\n",
      "\tlearn rate 0.000373\n",
      "Minibatch loss at step 1500: 0.380297\n",
      "Minibatch accuracy: 97.3%\n",
      "Validation accuracy: 94.1%\n",
      "Minibatch loss at step 1600: 0.404054\n",
      "Minibatch accuracy: 97.7%\n",
      "Validation accuracy: 94.5%\n",
      "\tlearn rate 0.000353\n",
      "Minibatch loss at step 1700: 0.446656\n",
      "Minibatch accuracy: 96.9%\n",
      "Validation accuracy: 94.9%\n",
      "Minibatch loss at step 1800: 0.402424\n",
      "Minibatch accuracy: 98.4%\n",
      "Validation accuracy: 95.1%\n",
      "\tlearn rate 0.000331\n",
      "Minibatch loss at step 1900: 0.362146\n",
      "Minibatch accuracy: 99.2%\n",
      "Validation accuracy: 95.1%\n",
      "Minibatch loss at step 2000: 0.449840\n",
      "Minibatch accuracy: 97.7%\n",
      "Validation accuracy: 95.6%\n",
      "Minibatch loss at step 2100: 0.326452\n",
      "Minibatch accuracy: 99.6%\n",
      "Validation accuracy: 95.5%\n",
      "Minibatch loss at step 2200: 0.300068\n",
      "Minibatch accuracy: 100.0%\n",
      "Validation accuracy: 95.4%\n",
      "Minibatch loss at step 2300: 0.325510\n",
      "Minibatch accuracy: 98.4%\n",
      "Validation accuracy: 95.8%\n",
      "\tlearn rate 0.000307\n",
      "Minibatch loss at step 2400: 0.285845\n",
      "Minibatch accuracy: 99.6%\n",
      "Validation accuracy: 95.9%\n",
      "Minibatch loss at step 2500: 0.226394\n",
      "Minibatch accuracy: 99.2%\n",
      "Validation accuracy: 96.0%\n",
      "Minibatch loss at step 2600: 0.237176\n",
      "Minibatch accuracy: 99.2%\n",
      "Validation accuracy: 95.3%\n",
      "Minibatch loss at step 2700: 0.275145\n",
      "Minibatch accuracy: 99.2%\n",
      "Validation accuracy: 95.7%\n",
      "Minibatch loss at step 2800: 0.310094\n",
      "Minibatch accuracy: 96.9%\n",
      "Validation accuracy: 96.1%\n",
      "Minibatch loss at step 2900: 0.290898\n",
      "Minibatch accuracy: 97.3%\n",
      "Validation accuracy: 95.9%\n",
      "Minibatch loss at step 3000: 0.285914\n",
      "Minibatch accuracy: 98.4%\n",
      "Validation accuracy: 96.3%\n",
      "\tlearn rate 0.000290\n",
      "Test accuracy: 94.9%\n",
      "Trained Model Saved.\n"
     ]
    }
   ],
   "source": [
    "num_steps = 3001\n",
    "steps = []\n",
    "trainAccs = []\n",
    "valiAccs = []\n",
    "learnR = []\n",
    "\n",
    "with tf.Session() as session:\n",
    "    session.run(tf.global_variables_initializer())\n",
    "    rate = 0.0015\n",
    "    acc = 0.\n",
    "    for step in range(num_steps):\n",
    "        offset = (step * batch_size) % (X_train.shape[0] - batch_size)\n",
    "        batch_data = X_train[offset:(offset + batch_size), :, :, :]\n",
    "        batch_labels = y_train[offset:(offset + batch_size)]\n",
    "        feed_dict = {tf_train_dataset : batch_data, tf_train_labels_1hot : batch_labels, \n",
    "                     learning_rate : rate}\n",
    "        \n",
    "        _, l, predictions = session.run(\n",
    "          [optimizer, loss, train_prediction], feed_dict=feed_dict)\n",
    "        if (step % 100 == 0):\n",
    "            print('Minibatch loss at step %d: %f' % (step, l))\n",
    "            steps.append(step)\n",
    "            trainAcc = accuracy(predictions, batch_labels)\n",
    "            trainAccs.append(trainAcc)\n",
    "            validAcc = accuracy(valid_prediction.eval(), y_valid)\n",
    "            valiAccs.append(validAcc)\n",
    "            print('Minibatch accuracy: %.1f%%' % accuracy(predictions, batch_labels))\n",
    "            print('Validation accuracy: %.1f%%' % validAcc)\n",
    "            if((100-validAcc) / (100 - acc) < 0.9):                \n",
    "                rate = rate * np.sqrt(((100-validAcc) / (100 - acc)));\n",
    "                acc = validAcc\n",
    "                print (\"\\tlearn rate %f\" % rate)\n",
    "            learnR.append(rate)\n",
    "    testAcc1 = accuracy(test_prediction1.eval(), y_test1)\n",
    "    testAcc2 = accuracy(test_prediction2.eval(), y_test2)\n",
    "    testAcc = (testAcc1 + testAcc2) / 2\n",
    "    print('Test accuracy: %.1f%%' % testAcc)\n",
    "    # Save the model\n",
    "    saver.save(session, save_file)\n",
    "    print('Trained Model Saved.')\n",
    "    "
   ]
  },
  {
   "cell_type": "code",
   "execution_count": 7,
   "metadata": {},
   "outputs": [
    {
     "data": {
      "image/png": "[encoded data removed]",
      "text/plain": [
       "<matplotlib.figure.Figure at 0x7f20b3d2a780>"
      ]
     },
     "metadata": {},
     "output_type": "display_data"
    },
    {
     "data": {
      "image/png": "[encoded data removed]",
      "text/plain": [
       "<matplotlib.figure.Figure at 0x7f20b3cdc080>"
      ]
     },
     "metadata": {},
     "output_type": "display_data"
    },
    {
     "name": "stdout",
     "output_type": "stream",
     "text": [
      "[3.1519274376417235, 11.45124716553288, 53.628117913832199, 68.662131519274382, 75.691609977324262, 82.063492063492063, 85.260770975056687, 87.755102040816325, 89.297052154195015, 90.907029478458057, 91.723356009070301, 92.267573696145121, 92.267573696145121, 92.494331065759638, 93.832199546485256, 94.10430839002268, 94.467120181405889, 94.897959183673464, 95.124716553287982, 95.147392290249428, 95.600907029478464, 95.464852607709744, 95.374149659863946, 95.804988662131521, 95.91836734693878, 95.963718820861672, 95.260770975056687, 95.691609977324262, 96.122448979591837, 95.850340136054427, 96.258503401360542]\n"
     ]
    }
   ],
   "source": [
    "plt.plot(steps[3:], trainAccs[3:], 'r-', steps[3:], valiAccs[3:], 'b-')\n",
    "plt.xlabel('steps')\n",
    "plt.ylabel('accuracy')\n",
    "plt.title('traning and validation accuracy')\n",
    "plt.show()\n",
    "plt.figure()\n",
    "plt.plot( steps[0:], learnR[0:], 'g--')\n",
    "plt.xlabel('steps')\n",
    "plt.ylabel('learning rate')\n",
    "plt.title('decreasing learning rate')\n",
    "plt.show()\n",
    "print (valiAccs)"
   ]
  },
  {
   "cell_type": "markdown",
   "metadata": {},
   "source": [
    "---\n",
    "\n",
    "## Step 3: Test a Model on New Images\n",
    "\n",
    "To give yourself more insight into how your model is working, download at least five pictures of German traffic signs from the web and use your model to predict the traffic sign type.\n",
    "\n",
    "You may find `signnames.csv` useful as it contains mappings from the class id (integer) to the actual sign name."
   ]
  },
  {
   "cell_type": "markdown",
   "metadata": {},
   "source": [
    "### Load and Output the Images"
   ]
  },
  {
   "cell_type": "code",
   "execution_count": 8,
   "metadata": {
    "scrolled": true
   },
   "outputs": [
    {
     "data": {
      "image/png": "[encoded data removed]",
      "text/plain": [
       "<matplotlib.figure.Figure at 0x7f20b3d2a588>"
      ]
     },
     "metadata": {},
     "output_type": "display_data"
    },
    {
     "data": {
      "image/png": "[encoded data removed]",
      "text/plain": [
       "<matplotlib.figure.Figure at 0x7f209be98320>"
      ]
     },
     "metadata": {},
     "output_type": "display_data"
    },
    {
     "data": {
      "image/png": "[encoded data removed]",
      "text/plain": [
       "<matplotlib.figure.Figure at 0x7f209bdef518>"
      ]
     },
     "metadata": {},
     "output_type": "display_data"
    },
    {
     "data": {
      "image/png": "[encoded data removed]",
      "text/plain": [
       "<matplotlib.figure.Figure at 0x7f209be14f60>"
      ]
     },
     "metadata": {},
     "output_type": "display_data"
    },
    {
     "data": {
      "image/png": "[encoded data removed]",
      "text/plain": [
       "<matplotlib.figure.Figure at 0x7f209bd26a90>"
      ]
     },
     "metadata": {},
     "output_type": "display_data"
    }
   ],
   "source": [
    "import os\n",
    "\n",
    "signFolder = \"new_sign/\"\n",
    "imgs = []\n",
    "for filename in os.listdir(signFolder):\n",
    "    plt.figure(figsize=(2, 2), dpi=32)\n",
    "    img = plt.imread(signFolder + filename)\n",
    "    imgs.append(img)\n",
    "    plt.imshow(img)\n",
    "    plt.draw()\n",
    "    "
   ]
  },
  {
   "cell_type": "markdown",
   "metadata": {},
   "source": [
    "### Predict the Sign Type for Each Image"
   ]
  },
  {
   "cell_type": "markdown",
   "metadata": {},
   "source": [
    "ClassId\tSignName\n",
    "0\tSpeed limit (20km/h)\n",
    "1\tSpeed limit (30km/h)\n",
    "2\tSpeed limit (50km/h)\n",
    "3\tSpeed limit (60km/h)\n",
    "4\tSpeed limit (70km/h)\n",
    "5\tSpeed limit (80km/h)\n",
    "6\tEnd of speed limit (80km/h)\n",
    "7\tSpeed limit (100km/h)\n",
    "8\tSpeed limit (120km/h)\n",
    "9\tNo passing\n",
    "10\tNo passing for vehicles over 3.5 metric tons\n",
    "11\tRight-of-way at the next intersection\n",
    "12\tPriority road\n",
    "13\tYield\n",
    "14\tStop\n",
    "15\tNo vehicles\n",
    "16\tVehicles over 3.5 metric tons prohibited\n",
    "17\tNo entry\n",
    "18\tGeneral caution\n",
    "19\tDangerous curve to the left\n",
    "20\tDangerous curve to the right\n",
    "21\tDouble curve\n",
    "22\tBumpy road\n",
    "23\tSlippery road\n",
    "24\tRoad narrows on the right\n",
    "25\tRoad work\n",
    "26\tTraffic signals\n",
    "27\tPedestrians\n",
    "28\tChildren crossing\n",
    "29\tBicycles crossing\n",
    "30\tBeware of ice/snow\n",
    "31\tWild animals crossing\n",
    "32\tEnd of all speed and passing limits\n",
    "33\tTurn right ahead\n",
    "34\tTurn left ahead\n",
    "35\tAhead only\n",
    "36\tGo straight or right\n",
    "37\tGo straight or left\n",
    "38\tKeep right\n",
    "39\tKeep left\n",
    "40\tRoundabout mandatory\n",
    "41\tEnd of no passing\n",
    "42\tEnd of no passing by vehicles over 3.5 metric tons"
   ]
  },
  {
   "cell_type": "code",
   "execution_count": 9,
   "metadata": {
    "scrolled": true
   },
   "outputs": [
    {
     "data": {
      "image/png": "[encoded data removed]",
      "text/plain": [
       "<matplotlib.figure.Figure at 0x7f209bd0c160>"
      ]
     },
     "metadata": {},
     "output_type": "display_data"
    },
    {
     "data": {
      "image/png": "[encoded data removed]",
      "text/plain": [
       "<matplotlib.figure.Figure at 0x7f209bc3d470>"
      ]
     },
     "metadata": {},
     "output_type": "display_data"
    },
    {
     "data": {
      "image/png": "[encoded data removed]",
      "text/plain": [
       "<matplotlib.figure.Figure at 0x7f209bc03f60>"
      ]
     },
     "metadata": {},
     "output_type": "display_data"
    },
    {
     "data": {
      "image/png": "[encoded data removed]",
      "text/plain": [
       "<matplotlib.figure.Figure at 0x7f209bbdd470>"
      ]
     },
     "metadata": {},
     "output_type": "display_data"
    },
    {
     "data": {
      "image/png": "[encoded data removed]",
      "text/plain": [
       "<matplotlib.figure.Figure at 0x7f20991af8d0>"
      ]
     },
     "metadata": {},
     "output_type": "display_data"
    }
   ],
   "source": [
    "import cv2\n",
    "imgs32 = []\n",
    "for img1 in imgs:\n",
    "    w, h = img1.shape[:2]\n",
    "    size = min(w,h)\n",
    "    img1 = img1[:size,:size]\n",
    "    imgs32.append(cv2.resize(img1, (32,32), interpolation = cv2.INTER_AREA))\n",
    "X_imgs = np.array(imgs32)\n",
    "X_imgs = np.mean(X_imgs, axis = 3)[:,:,:,None]\n",
    "X_imgs = ((X_imgs - 128) / 128.0).astype(np.float32)\n",
    "\n",
    "for x in  X_imgs:\n",
    "    plt.figure(figsize=(2, 2), dpi=32)\n",
    "    plt.imshow(x.squeeze(),'gray')\n",
    "\n",
    "y_imgs = [14,25, 18,3,28]\n",
    "\n",
    "web_prediction = None\n",
    "with tf.Session() as sess:\n",
    "    save_file = './train_model.ckpt'\n",
    "    saver = tf.train.Saver()\n",
    "    saver.restore(sess, save_file)\n",
    "    web_prediction = sess.run(train_prediction, feed_dict =\n",
    "                              {tf_train_dataset : X_imgs, \n",
    "                               tf_train_labels_1hot : y_imgs, learning_rate : 0})\n",
    "    \n"
   ]
  },
  {
   "cell_type": "code",
   "execution_count": 10,
   "metadata": {
    "scrolled": true
   },
   "outputs": [
    {
     "name": "stdout",
     "output_type": "stream",
     "text": [
      "(5, 43)\n",
      "[14 18 18  3 28]\n",
      "[ 0.          0.          0.          0.          0.          0.          0.\n",
      "  0.          0.          0.          0.          0.          0.02348614\n",
      "  0.          0.          0.03396886  0.          0.          0.70353895\n",
      "  0.          0.          0.          0.          0.          0.01388767\n",
      "  0.          0.0508715   0.0405148   0.          0.          0.          0.\n",
      "  0.02362301  0.01863308  0.          0.          0.          0.          0.\n",
      "  0.025352    0.01338839  0.          0.01075831]\n"
     ]
    }
   ],
   "source": [
    "print (web_prediction.shape)\n",
    "print (np.argmax(web_prediction,1))\n",
    "wrong = web_prediction[1]\n",
    "wrong[wrong < 1e-2] = 0\n",
    "print (wrong)"
   ]
  },
  {
   "cell_type": "markdown",
   "metadata": {},
   "source": [
    "### Analyze Performance"
   ]
  },
  {
   "cell_type": "code",
   "execution_count": 11,
   "metadata": {},
   "outputs": [
    {
     "name": "stdout",
     "output_type": "stream",
     "text": [
      "80.0\n"
     ]
    }
   ],
   "source": [
    "print (accuracy(web_prediction, y_imgs))"
   ]
  },
  {
   "cell_type": "markdown",
   "metadata": {},
   "source": [
    "### Output Top 5 Softmax Probabilities For Each Image Found on the Web"
   ]
  },
  {
   "cell_type": "markdown",
   "metadata": {},
   "source": [
    "For each of the new images, print out the model's softmax probabilities to show the **certainty** of the model's predictions (limit the output to the top 5 probabilities for each image). [`tf.nn.top_k`](https://www.tensorflow.org/versions/r0.12/api_docs/python/nn.html#top_k) could prove helpful here. \n",
    "\n",
    "The example below demonstrates how tf.nn.top_k can be used to find the top k predictions for each image.\n",
    "\n",
    "`tf.nn.top_k` will return the values and indices (class ids) of the top k predictions. So if k=3, for each sign, it'll return the 3 largest probabilities (out of a possible 43) and the correspoding class ids.\n",
    "\n",
    "Take this numpy array as an example. The values in the array represent predictions. The array contains softmax probabilities for five candidate images with six possible classes. `tf.nn.top_k` is used to choose the three classes with the highest probability:\n",
    "\n",
    "```\n",
    "# (5, 6) array\n",
    "a = np.array([[ 0.24879643,  0.07032244,  0.12641572,  0.34763842,  0.07893497,\n",
    "         0.12789202],\n",
    "       [ 0.28086119,  0.27569815,  0.08594638,  0.0178669 ,  0.18063401,\n",
    "         0.15899337],\n",
    "       [ 0.26076848,  0.23664738,  0.08020603,  0.07001922,  0.1134371 ,\n",
    "         0.23892179],\n",
    "       [ 0.11943333,  0.29198961,  0.02605103,  0.26234032,  0.1351348 ,\n",
    "         0.16505091],\n",
    "       [ 0.09561176,  0.34396535,  0.0643941 ,  0.16240774,  0.24206137,\n",
    "         0.09155967]])\n",
    "```\n",
    "\n",
    "Running it through `sess.run(tf.nn.top_k(tf.constant(a), k=3))` produces:\n",
    "\n",
    "```\n",
    "TopKV2(values=array([[ 0.34763842,  0.24879643,  0.12789202],\n",
    "       [ 0.28086119,  0.27569815,  0.18063401],\n",
    "       [ 0.26076848,  0.23892179,  0.23664738],\n",
    "       [ 0.29198961,  0.26234032,  0.16505091],\n",
    "       [ 0.34396535,  0.24206137,  0.16240774]]), indices=array([[3, 0, 5],\n",
    "       [0, 1, 4],\n",
    "       [0, 5, 1],\n",
    "       [1, 3, 5],\n",
    "       [1, 4, 3]], dtype=int32))\n",
    "```\n",
    "\n",
    "Looking just at the first row we get `[ 0.34763842,  0.24879643,  0.12789202]`, you can confirm these are the 3 largest probabilities in `a`. You'll also notice `[3, 0, 5]` are the corresponding indices."
   ]
  },
  {
   "cell_type": "code",
   "execution_count": 12,
   "metadata": {},
   "outputs": [
    {
     "name": "stdout",
     "output_type": "stream",
     "text": [
      "TopKV2(values=array([[  9.99603212e-01,   9.73854549e-05,   9.19719823e-05,\n",
      "          7.74059372e-05,   4.34034919e-05],\n",
      "       [  7.03538954e-01,   5.08715026e-02,   4.05147970e-02,\n",
      "          3.39688621e-02,   2.53520012e-02],\n",
      "       [  9.96986330e-01,   2.93640257e-03,   5.21781185e-05,\n",
      "          1.71520423e-05,   6.48362538e-06],\n",
      "       [  8.64661157e-01,   1.11122616e-01,   2.07896605e-02,\n",
      "          1.88694976e-03,   1.36534765e-03],\n",
      "       [  9.90944266e-01,   6.72732154e-03,   1.46259915e-03,\n",
      "          7.28243671e-04,   6.60179139e-05]], dtype=float32), indices=array([[14, 38, 17, 40, 34],\n",
      "       [18, 26, 27, 15, 39],\n",
      "       [18, 26, 27, 25, 24],\n",
      "       [ 3,  5,  2, 16,  1],\n",
      "       [28, 30, 11, 29, 24]], dtype=int32))\n"
     ]
    }
   ],
   "source": [
    "with tf.Session() as sess:\n",
    "        print (sess.run(tf.nn.top_k(tf.constant(web_prediction), k=5)))"
   ]
  },
  {
   "cell_type": "markdown",
   "metadata": {},
   "source": [
    "### Project Writeup\n",
    "\n",
    "Once you have completed the code implementation, document your results in a project writeup using this [template](https://github.com/udacity/CarND-Traffic-Sign-Classifier-Project/blob/master/writeup_template.md) as a guide. The writeup can be in a markdown or pdf file. "
   ]
  },
  {
   "cell_type": "markdown",
   "metadata": {},
   "source": [
    "> **Note**: Once you have completed all of the code implementations and successfully answered each question above, you may finalize your work by exporting the iPython Notebook as an HTML document. You can do this by using the menu above and navigating to  \\n\",\n",
    "    \"**File -> Download as -> HTML (.html)**. Include the finished document along with this notebook as your submission."
   ]
  },
  {
   "cell_type": "markdown",
   "metadata": {},
   "source": [
    "---\n",
    "\n",
    "## Step 4 (Optional): Visualize the Neural Network's State with Test Images\n",
    "\n",
    " This Section is not required to complete but acts as an additional excersise for understaning the output of a neural network's weights. While neural networks can be a great learning device they are often referred to as a black box. We can understand what the weights of a neural network look like better by plotting their feature maps. After successfully training your neural network you can see what it's feature maps look like by plotting the output of the network's weight layers in response to a test stimuli image. From these plotted feature maps, it's possible to see what characteristics of an image the network finds interesting. For a sign, maybe the inner network feature maps react with high activation to the sign's boundary outline or to the contrast in the sign's painted symbol.\n",
    "\n",
    " Provided for you below is the function code that allows you to get the visualization output of any tensorflow weight layer you want. The inputs to the function should be a stimuli image, one used during training or a new one you provided, and then the tensorflow variable name that represents the layer's state during the training process, for instance if you wanted to see what the [LeNet lab's](https://classroom.udacity.com/nanodegrees/nd013/parts/fbf77062-5703-404e-b60c-95b78b2f3f9e/modules/6df7ae49-c61c-4bb2-a23e-6527e69209ec/lessons/601ae704-1035-4287-8b11-e2c2716217ad/concepts/d4aca031-508f-4e0b-b493-e7b706120f81) feature maps looked like for it's second convolutional layer you could enter conv2 as the tf_activation variable.\n",
    "\n",
    "For an example of what feature map outputs look like, check out NVIDIA's results in their paper [End-to-End Deep Learning for Self-Driving Cars](https://devblogs.nvidia.com/parallelforall/deep-learning-self-driving-cars/) in the section Visualization of internal CNN State. NVIDIA was able to show that their network's inner weights had high activations to road boundary lines by comparing feature maps from an image with a clear path to one without. Try experimenting with a similar test to show that your trained network's weights are looking for interesting features, whether it's looking at differences in feature maps from images with or without a sign, or even what feature maps look like in a trained network vs a completely untrained one on the same sign image.\n",
    "\n",
    "<figure>\n",
    " <img src=\"visualize_cnn.png\" width=\"380\" alt=\"Combined Image\" />\n",
    " <figcaption>\n",
    " <p></p> \n",
    " <p style=\"text-align: center;\"> Your output should look something like this (above)</p> \n",
    " </figcaption>\n",
    "</figure>\n",
    " <p></p> \n"
   ]
  },
  {
   "cell_type": "code",
   "execution_count": null,
   "metadata": {
    "collapsed": true
   },
   "outputs": [],
   "source": [
    "### Visualize your network's feature maps here.\n",
    "### Feel free to use as many code cells as needed.\n",
    "\n",
    "# image_input: the test image being fed into the network to produce the feature maps\n",
    "# tf_activation: should be a tf variable name used during your training procedure that represents the calculated state of a specific weight layer\n",
    "# activation_min/max: can be used to view the activation contrast in more detail, by default matplot sets min and max to the actual min and max values of the output\n",
    "# plt_num: used to plot out multiple different weight feature map sets on the same block, just extend the plt number for each new feature map entry\n",
    "\n",
    "def outputFeatureMap(image_input, tf_activation, activation_min=-1, activation_max=-1 ,plt_num=1):\n",
    "    # Here make sure to preprocess your image_input in a way your network expects\n",
    "    # with size, normalization, ect if needed\n",
    "    # image_input =\n",
    "    # Note: x should be the same name as your network's tensorflow data placeholder variable\n",
    "    # If you get an error tf_activation is not defined it may be having trouble accessing the variable from inside a function\n",
    "    activation = tf_activation.eval(session=sess,feed_dict={x : image_input})\n",
    "    featuremaps = activation.shape[3]\n",
    "    plt.figure(plt_num, figsize=(15,15))\n",
    "    for featuremap in range(featuremaps):\n",
    "        plt.subplot(6,8, featuremap+1) # sets the number of feature maps to show on each row and column\n",
    "        plt.title('FeatureMap ' + str(featuremap)) # displays the feature map number\n",
    "        if activation_min != -1 & activation_max != -1:\n",
    "            plt.imshow(activation[0,:,:, featuremap], interpolation=\"nearest\", vmin =activation_min, vmax=activation_max, cmap=\"gray\")\n",
    "        elif activation_max != -1:\n",
    "            plt.imshow(activation[0,:,:, featuremap], interpolation=\"nearest\", vmax=activation_max, cmap=\"gray\")\n",
    "        elif activation_min !=-1:\n",
    "            plt.imshow(activation[0,:,:, featuremap], interpolation=\"nearest\", vmin=activation_min, cmap=\"gray\")\n",
    "        else:\n",
    "            plt.imshow(activation[0,:,:, featuremap], interpolation=\"nearest\", cmap=\"gray\")"
   ]
  }
 ],
 "metadata": {
  "anaconda-cloud": {},
  "kernelspec": {
   "display_name": "Python 3",
   "language": "python",
   "name": "python3"
  },
  "language_info": {
   "codemirror_mode": {
    "name": "ipython",
    "version": 3
   },
   "file_extension": ".py",
   "mimetype": "text/x-python",
   "name": "python",
   "nbconvert_exporter": "python",
   "pygments_lexer": "ipython3",
   "version": "3.5.2"
  },
  "widgets": {
   "state": {},
   "version": "1.1.2"
  }
 },
 "nbformat": 4,
 "nbformat_minor": 1
}
